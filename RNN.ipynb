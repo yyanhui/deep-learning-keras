{
 "cells": [
  {
   "cell_type": "markdown",
   "id": "6f714e5e",
   "metadata": {},
   "source": [
    "## Dataset\n",
    "The dataset used here for RNNs is Jena weather dataset, which contains panel data for weather conditions, we will use the dataset for simple LSTM and GRU, compare the performance of these models based on recurrant NN."
   ]
  },
  {
   "cell_type": "code",
   "execution_count": 4,
   "id": "67f51588",
   "metadata": {},
   "outputs": [
    {
     "name": "stdout",
     "output_type": "stream",
     "text": [
      "['\"Date Time\"', '\"p (mbar)\"', '\"T (degC)\"', '\"Tpot (K)\"', '\"Tdew (degC)\"', '\"rh (%)\"', '\"VPmax (mbar)\"', '\"VPact (mbar)\"', '\"VPdef (mbar)\"', '\"sh (g/kg)\"', '\"H2OC (mmol/mol)\"', '\"rho (g/m**3)\"', '\"wv (m/s)\"', '\"max. wv (m/s)\"', '\"wd (deg)\"']\n"
     ]
    }
   ],
   "source": [
    "import os\n",
    "import numpy as np\n",
    "from tensorflow import keras\n",
    "## Read the data \n",
    "fname = os.path.join(\"data/jena_climate_2009_2016.csv\")\n",
    "with open(fname) as f:\n",
    "    data = f.read()\n",
    "lines = data.split(\"\\n\")\n",
    "header = lines[0].split(\",\")\n",
    "lines = lines[1:]\n",
    "## Read the data into numpy array, each row in raw data contains one sample point for one timestamp,\n",
    "## and temperature is used as labels\n",
    "temperature = np.zeros((len(lines),))\n",
    "raw_data = np.zeros((len(lines), len(header) - 1))\n",
    "for i, line in enumerate(lines):\n",
    "    values = [float(x) for x in line.split(\",\")[1:]]\n",
    "    temperature[i] = values[1]\n",
    "    raw_data[i, :] = values[:]\n",
    "## This is the information contained in the dataset\n",
    "print(header)"
   ]
  },
  {
   "cell_type": "code",
   "execution_count": 7,
   "id": "c27168ef",
   "metadata": {},
   "outputs": [],
   "source": [
    "## Data preprocess, firstly we normalize the data, and we build a recurrent dataset with keras function\n",
    "## we further devide the dataset into train-validate-test sets with proportion 0.5-0.25-0.25\n",
    "def Normalize(raw_data,num_train_samples):\n",
    "    mean = raw_data[:num_train_samples].mean(axis=0)\n",
    "    raw_data -= mean\n",
    "    std = raw_data[:num_train_samples].std(axis=0)\n",
    "    raw_data /= std\n",
    "    return raw_data\n",
    "\n",
    "num_train_samples = int(0.5 * len(raw_data))\n",
    "num_val_samples = int(0.25 * len(raw_data))\n",
    "num_test_samples = len(raw_data) - num_train_samples - num_val_samples\n",
    "\n",
    "sampling_rate = 6\n",
    "sequence_length = 120\n",
    "delay = sampling_rate * (sequence_length + 24 - 1)\n",
    "batch_size = 256\n",
    "\n",
    "raw_data = Normalize(raw_data,num_train_samples)\n",
    "train_dataset = keras.utils.timeseries_dataset_from_array(\n",
    "    raw_data[:-delay],\n",
    "    targets=temperature[delay:],\n",
    "    sampling_rate=sampling_rate,\n",
    "    sequence_length=sequence_length,\n",
    "    shuffle=True,\n",
    "    batch_size=batch_size,\n",
    "    start_index=0,\n",
    "    end_index=num_train_samples)\n",
    "\n",
    "val_dataset = keras.utils.timeseries_dataset_from_array(\n",
    "    raw_data[:-delay],\n",
    "    targets=temperature[delay:],\n",
    "    sampling_rate=sampling_rate,\n",
    "    sequence_length=sequence_length,\n",
    "    shuffle=True,\n",
    "    batch_size=batch_size,\n",
    "    start_index=num_train_samples,\n",
    "    end_index=num_train_samples + num_val_samples)\n",
    "\n",
    "test_dataset = keras.utils.timeseries_dataset_from_array(\n",
    "    raw_data[:-delay],\n",
    "    targets=temperature[delay:],\n",
    "    sampling_rate=sampling_rate,\n",
    "    sequence_length=sequence_length,\n",
    "    shuffle=True,\n",
    "    batch_size=batch_size,\n",
    "    start_index=num_train_samples + num_val_samples)"
   ]
  },
  {
   "cell_type": "markdown",
   "id": "9310bcaa",
   "metadata": {},
   "source": [
    "### A simple LSTM with keras"
   ]
  },
  {
   "cell_type": "code",
   "execution_count": 11,
   "id": "fb28b112",
   "metadata": {},
   "outputs": [
    {
     "name": "stdout",
     "output_type": "stream",
     "text": [
      "405/405 [==============================] - 6s 14ms/step - loss: 11.3872 - mae: 2.5735\n",
      "Test MAE: 2.57\n"
     ]
    }
   ],
   "source": [
    "from tensorflow.keras import layers\n",
    "\n",
    "inputs = keras.Input(shape=(sequence_length, raw_data.shape[-1]))\n",
    "x = layers.LSTM(16)(inputs)\n",
    "outputs = layers.Dense(1)(x)\n",
    "model = keras.Model(inputs, outputs)\n",
    "\n",
    "callbacks = [\n",
    "    keras.callbacks.ModelCheckpoint(\"jena_lstm.keras.tf\",\n",
    "                                    save_best_only=True)\n",
    "]\n",
    "model.compile(optimizer=\"rmsprop\", loss=\"mse\", metrics=[\"mae\"])\n",
    "history = model.fit(train_dataset,\n",
    "                    epochs=10,\n",
    "                    validation_data=val_dataset,\n",
    "                    callbacks=callbacks)\n",
    "\n",
    "model = keras.models.load_model(\"jena_lstm.keras.tf\")\n",
    "print(f\"Test MAE: {model.evaluate(test_dataset)[1]:.2f}\")"
   ]
  },
  {
   "cell_type": "code",
   "execution_count": 12,
   "id": "b5323e0a",
   "metadata": {},
   "outputs": [
    {
     "data": {
      "image/png": "[encoded data removed]",
      "text/plain": [
       "<Figure size 432x288 with 1 Axes>"
      ]
     },
     "metadata": {
      "needs_background": "light"
     },
     "output_type": "display_data"
    }
   ],
   "source": [
    "import matplotlib.pyplot as plt\n",
    "def plot_Result(history):\n",
    "    loss = history.history[\"mae\"]\n",
    "    val_loss = history.history[\"val_mae\"]\n",
    "    epochs = range(1, len(loss) + 1)\n",
    "    plt.figure()\n",
    "    plt.plot(epochs, loss, \"bo\", label=\"Training MAE\")\n",
    "    plt.plot(epochs, val_loss, \"b\", label=\"Validation MAE\")\n",
    "    plt.title(\"Training and validation MAE\")\n",
    "    plt.legend()\n",
    "    plt.show()\n",
    "plot_Result(history)"
   ]
  },
  {
   "cell_type": "markdown",
   "id": "5c0cb395",
   "metadata": {},
   "source": [
    "### RNN stacking, GRU"
   ]
  },
  {
   "cell_type": "code",
   "execution_count": 13,
   "id": "ecfde4ba",
   "metadata": {},
   "outputs": [
    {
     "name": "stdout",
     "output_type": "stream",
     "text": [
      "Epoch 1/50\n",
      "819/819 [==============================] - ETA: 0s - loss: 24.1276 - mae: 3.6471INFO:tensorflow:Assets written to: jena_stacked_gru_dropout.tf\\assets\n"
     ]
    },
    {
     "name": "stderr",
     "output_type": "stream",
     "text": [
      "INFO:tensorflow:Assets written to: jena_stacked_gru_dropout.tf\\assets\n"
     ]
    },
    {
     "name": "stdout",
     "output_type": "stream",
     "text": [
      "819/819 [==============================] - 138s 165ms/step - loss: 24.1276 - mae: 3.6471 - val_loss: 9.4575 - val_mae: 2.3962\n",
      "Epoch 2/50\n",
      "819/819 [==============================] - ETA: 0s - loss: 14.1293 - mae: 2.9120INFO:tensorflow:Assets written to: jena_stacked_gru_dropout.tf\\assets\n"
     ]
    },
    {
     "name": "stderr",
     "output_type": "stream",
     "text": [
      "INFO:tensorflow:Assets written to: jena_stacked_gru_dropout.tf\\assets\n"
     ]
    },
    {
     "name": "stdout",
     "output_type": "stream",
     "text": [
      "819/819 [==============================] - 145s 178ms/step - loss: 14.1293 - mae: 2.9120 - val_loss: 9.1725 - val_mae: 2.3440\n",
      "Epoch 3/50\n",
      "819/819 [==============================] - ETA: 0s - loss: 13.2600 - mae: 2.8220INFO:tensorflow:Assets written to: jena_stacked_gru_dropout.tf\\assets\n"
     ]
    },
    {
     "name": "stderr",
     "output_type": "stream",
     "text": [
      "INFO:tensorflow:Assets written to: jena_stacked_gru_dropout.tf\\assets\n"
     ]
    },
    {
     "name": "stdout",
     "output_type": "stream",
     "text": [
      "819/819 [==============================] - 152s 185ms/step - loss: 13.2600 - mae: 2.8220 - val_loss: 8.6634 - val_mae: 2.2859\n",
      "Epoch 4/50\n",
      "819/819 [==============================] - 150s 183ms/step - loss: 12.7313 - mae: 2.7603 - val_loss: 9.3377 - val_mae: 2.3845\n",
      "Epoch 5/50\n",
      "819/819 [==============================] - 145s 177ms/step - loss: 12.1796 - mae: 2.7047 - val_loss: 9.2207 - val_mae: 2.3645\n",
      "Epoch 6/50\n",
      "819/819 [==============================] - 144s 176ms/step - loss: 11.7193 - mae: 2.6517 - val_loss: 8.6811 - val_mae: 2.2833\n",
      "Epoch 7/50\n",
      "819/819 [==============================] - 145s 177ms/step - loss: 11.2425 - mae: 2.6019 - val_loss: 9.0120 - val_mae: 2.3299\n",
      "Epoch 8/50\n",
      "819/819 [==============================] - 144s 176ms/step - loss: 10.9163 - mae: 2.5643 - val_loss: 8.9522 - val_mae: 2.3336\n",
      "Epoch 9/50\n",
      "819/819 [==============================] - 147s 179ms/step - loss: 10.5636 - mae: 2.5221 - val_loss: 9.1881 - val_mae: 2.3463\n",
      "Epoch 10/50\n",
      "819/819 [==============================] - 142s 174ms/step - loss: 10.3414 - mae: 2.4943 - val_loss: 9.0502 - val_mae: 2.3329\n",
      "Epoch 11/50\n",
      "819/819 [==============================] - 147s 179ms/step - loss: 10.0434 - mae: 2.4568 - val_loss: 9.2805 - val_mae: 2.3676\n",
      "Epoch 12/50\n",
      "819/819 [==============================] - 145s 177ms/step - loss: 9.8168 - mae: 2.4306 - val_loss: 9.4912 - val_mae: 2.3930\n",
      "Epoch 13/50\n",
      "819/819 [==============================] - 147s 179ms/step - loss: 9.5617 - mae: 2.4018 - val_loss: 9.5555 - val_mae: 2.4037\n",
      "Epoch 14/50\n",
      "819/819 [==============================] - 143s 175ms/step - loss: 9.4065 - mae: 2.3799 - val_loss: 9.7720 - val_mae: 2.4395\n",
      "Epoch 15/50\n",
      "819/819 [==============================] - 146s 178ms/step - loss: 9.2307 - mae: 2.3563 - val_loss: 9.8156 - val_mae: 2.4421\n",
      "Epoch 16/50\n",
      "819/819 [==============================] - 148s 180ms/step - loss: 9.0770 - mae: 2.3377 - val_loss: 9.5576 - val_mae: 2.4142\n",
      "Epoch 17/50\n",
      "819/819 [==============================] - 145s 177ms/step - loss: 8.8936 - mae: 2.3174 - val_loss: 9.7379 - val_mae: 2.4353\n",
      "Epoch 18/50\n",
      "819/819 [==============================] - 147s 179ms/step - loss: 8.8366 - mae: 2.3077 - val_loss: 9.9867 - val_mae: 2.4743\n",
      "Epoch 19/50\n",
      "819/819 [==============================] - 146s 179ms/step - loss: 8.6842 - mae: 2.2878 - val_loss: 10.1960 - val_mae: 2.5059\n",
      "Epoch 20/50\n",
      "819/819 [==============================] - 147s 180ms/step - loss: 8.5652 - mae: 2.2741 - val_loss: 9.9892 - val_mae: 2.4596\n",
      "Epoch 21/50\n",
      "819/819 [==============================] - 145s 178ms/step - loss: 8.5116 - mae: 2.2664 - val_loss: 10.0309 - val_mae: 2.4752\n",
      "Epoch 22/50\n",
      "819/819 [==============================] - 145s 177ms/step - loss: 8.3948 - mae: 2.2499 - val_loss: 10.5949 - val_mae: 2.5397\n",
      "Epoch 23/50\n",
      "819/819 [==============================] - 147s 179ms/step - loss: 8.2891 - mae: 2.2340 - val_loss: 10.0774 - val_mae: 2.4752\n",
      "Epoch 24/50\n",
      "819/819 [==============================] - 147s 179ms/step - loss: 8.2009 - mae: 2.2241 - val_loss: 10.6384 - val_mae: 2.5394\n",
      "Epoch 25/50\n",
      "819/819 [==============================] - 146s 179ms/step - loss: 8.1611 - mae: 2.2201 - val_loss: 11.2823 - val_mae: 2.6233\n",
      "Epoch 26/50\n",
      "819/819 [==============================] - 147s 179ms/step - loss: 8.0035 - mae: 2.1980 - val_loss: 10.8716 - val_mae: 2.5708\n",
      "Epoch 27/50\n",
      "819/819 [==============================] - 146s 179ms/step - loss: 7.9613 - mae: 2.1929 - val_loss: 10.8401 - val_mae: 2.5672\n",
      "Epoch 28/50\n",
      "819/819 [==============================] - 146s 178ms/step - loss: 7.9108 - mae: 2.1838 - val_loss: 10.9815 - val_mae: 2.5868\n",
      "Epoch 29/50\n",
      "819/819 [==============================] - 145s 177ms/step - loss: 7.8655 - mae: 2.1787 - val_loss: 11.4836 - val_mae: 2.6469\n",
      "Epoch 30/50\n",
      "819/819 [==============================] - 145s 177ms/step - loss: 7.7761 - mae: 2.1660 - val_loss: 11.4677 - val_mae: 2.6534\n",
      "Epoch 31/50\n",
      "819/819 [==============================] - 145s 177ms/step - loss: 7.7408 - mae: 2.1617 - val_loss: 10.8774 - val_mae: 2.5727\n",
      "Epoch 32/50\n",
      "819/819 [==============================] - 148s 181ms/step - loss: 7.6974 - mae: 2.1549 - val_loss: 11.9220 - val_mae: 2.7013\n",
      "Epoch 33/50\n",
      "819/819 [==============================] - 147s 179ms/step - loss: 7.6452 - mae: 2.1449 - val_loss: 11.4791 - val_mae: 2.6568\n",
      "Epoch 34/50\n",
      "819/819 [==============================] - 149s 181ms/step - loss: 7.5952 - mae: 2.1385 - val_loss: 11.2907 - val_mae: 2.6236\n",
      "Epoch 35/50\n",
      "819/819 [==============================] - 147s 180ms/step - loss: 7.5841 - mae: 2.1349 - val_loss: 11.3717 - val_mae: 2.6379\n",
      "Epoch 36/50\n",
      "819/819 [==============================] - 145s 177ms/step - loss: 7.5734 - mae: 2.1347 - val_loss: 11.7782 - val_mae: 2.6709\n",
      "Epoch 37/50\n",
      "819/819 [==============================] - 148s 181ms/step - loss: 7.4926 - mae: 2.1234 - val_loss: 11.9874 - val_mae: 2.7160\n",
      "Epoch 38/50\n",
      "819/819 [==============================] - 147s 179ms/step - loss: 7.4199 - mae: 2.1159 - val_loss: 11.7840 - val_mae: 2.6716\n",
      "Epoch 39/50\n",
      "819/819 [==============================] - 149s 182ms/step - loss: 7.4187 - mae: 2.1135 - val_loss: 11.5961 - val_mae: 2.6649\n",
      "Epoch 40/50\n",
      "819/819 [==============================] - 148s 181ms/step - loss: 7.3862 - mae: 2.1065 - val_loss: 12.3086 - val_mae: 2.7425\n",
      "Epoch 41/50\n",
      "819/819 [==============================] - 147s 180ms/step - loss: 7.3170 - mae: 2.0986 - val_loss: 11.7039 - val_mae: 2.6915\n",
      "Epoch 42/50\n",
      "819/819 [==============================] - 147s 179ms/step - loss: 7.3284 - mae: 2.0981 - val_loss: 12.1659 - val_mae: 2.7163\n",
      "Epoch 43/50\n",
      "819/819 [==============================] - 151s 184ms/step - loss: 7.2465 - mae: 2.0901 - val_loss: 12.2013 - val_mae: 2.7250\n",
      "Epoch 44/50\n",
      "819/819 [==============================] - 150s 183ms/step - loss: 7.2416 - mae: 2.0872 - val_loss: 11.9427 - val_mae: 2.6819\n",
      "Epoch 45/50\n",
      "819/819 [==============================] - 150s 183ms/step - loss: 7.1942 - mae: 2.0798 - val_loss: 11.7757 - val_mae: 2.6798\n",
      "Epoch 46/50\n",
      "819/819 [==============================] - 149s 182ms/step - loss: 7.1370 - mae: 2.0699 - val_loss: 12.7506 - val_mae: 2.8011\n",
      "Epoch 47/50\n",
      "819/819 [==============================] - 148s 180ms/step - loss: 7.1709 - mae: 2.0754 - val_loss: 11.9102 - val_mae: 2.6913\n",
      "Epoch 48/50\n",
      "819/819 [==============================] - 148s 181ms/step - loss: 7.0956 - mae: 2.0638 - val_loss: 12.0748 - val_mae: 2.6988\n",
      "Epoch 49/50\n",
      "819/819 [==============================] - 148s 181ms/step - loss: 7.1005 - mae: 2.0635 - val_loss: 12.8517 - val_mae: 2.7942\n",
      "Epoch 50/50\n",
      "819/819 [==============================] - 148s 181ms/step - loss: 7.0634 - mae: 2.0600 - val_loss: 12.2796 - val_mae: 2.7335\n",
      "405/405 [==============================] - 13s 31ms/step - loss: 9.9273 - mae: 2.4628\n",
      "Test MAE: 2.46\n"
     ]
    }
   ],
   "source": [
    "inputs = keras.Input(shape=(sequence_length, raw_data.shape[-1]))\n",
    "x = layers.GRU(32, recurrent_dropout=0.5, return_sequences=True)(inputs)\n",
    "x = layers.GRU(32, recurrent_dropout=0.5)(x)\n",
    "x = layers.Dropout(0.5)(x)\n",
    "outputs = layers.Dense(1)(x)\n",
    "model = keras.Model(inputs, outputs)\n",
    "\n",
    "callbacks = [\n",
    "    keras.callbacks.ModelCheckpoint(\"jena_stacked_gru_dropout.tf\",\n",
    "                                    save_best_only=True)\n",
    "]\n",
    "model.compile(optimizer=\"rmsprop\", loss=\"mse\", metrics=[\"mae\"])\n",
    "history = model.fit(train_dataset,\n",
    "                    epochs=50,\n",
    "                    validation_data=val_dataset,\n",
    "                    callbacks=callbacks)\n",
    "model = keras.models.load_model(\"jena_stacked_gru_dropout.tf\")\n",
    "print(f\"Test MAE: {model.evaluate(test_dataset)[1]:.2f}\")"
   ]
  },
  {
   "cell_type": "code",
   "execution_count": 14,
   "id": "469fc2a4",
   "metadata": {},
   "outputs": [
    {
     "data": {
      "image/png": "[encoded data removed]",
      "text/plain": [
       "<Figure size 432x288 with 1 Axes>"
      ]
     },
     "metadata": {
      "needs_background": "light"
     },
     "output_type": "display_data"
    }
   ],
   "source": [
    "plot_Result(history)"
   ]
  },
  {
   "cell_type": "markdown",
   "id": "70b4943e",
   "metadata": {},
   "source": [
    "### Bidirectional RNNs\n",
    "The model trained on RNN in order and in reverse order, combine the results of two models with a dense connection."
   ]
  },
  {
   "cell_type": "code",
   "execution_count": 15,
   "id": "5505fd97",
   "metadata": {},
   "outputs": [
    {
     "name": "stdout",
     "output_type": "stream",
     "text": [
      "Epoch 1/10\n",
      "819/819 [==============================] - 36s 40ms/step - loss: 24.2204 - mae: 3.5446 - val_loss: 10.4653 - val_mae: 2.5065\n",
      "Epoch 2/10\n",
      "819/819 [==============================] - 34s 42ms/step - loss: 9.2640 - mae: 2.3808 - val_loss: 10.0684 - val_mae: 2.4600\n",
      "Epoch 3/10\n",
      "819/819 [==============================] - 33s 40ms/step - loss: 8.3113 - mae: 2.2465 - val_loss: 9.7456 - val_mae: 2.4241\n",
      "Epoch 4/10\n",
      "819/819 [==============================] - 33s 40ms/step - loss: 7.8253 - mae: 2.1794 - val_loss: 9.9417 - val_mae: 2.4493\n",
      "Epoch 5/10\n",
      "819/819 [==============================] - 33s 40ms/step - loss: 7.5280 - mae: 2.1394 - val_loss: 9.9587 - val_mae: 2.4546\n",
      "Epoch 6/10\n",
      "819/819 [==============================] - 33s 40ms/step - loss: 7.1875 - mae: 2.0925 - val_loss: 10.4354 - val_mae: 2.5046\n",
      "Epoch 7/10\n",
      "819/819 [==============================] - 33s 40ms/step - loss: 6.9387 - mae: 2.0574 - val_loss: 10.2869 - val_mae: 2.4942\n",
      "Epoch 8/10\n",
      "819/819 [==============================] - 33s 40ms/step - loss: 6.6800 - mae: 2.0186 - val_loss: 10.6725 - val_mae: 2.5401\n",
      "Epoch 9/10\n",
      "819/819 [==============================] - 34s 41ms/step - loss: 6.5401 - mae: 1.9990 - val_loss: 11.5690 - val_mae: 2.6259\n",
      "Epoch 10/10\n",
      "819/819 [==============================] - 33s 40ms/step - loss: 6.3915 - mae: 1.9736 - val_loss: 10.7690 - val_mae: 2.5316\n"
     ]
    },
    {
     "data": {
      "image/png": "[encoded data removed]",
      "text/plain": [
       "<Figure size 432x288 with 1 Axes>"
      ]
     },
     "metadata": {
      "needs_background": "light"
     },
     "output_type": "display_data"
    }
   ],
   "source": [
    "inputs = keras.Input(shape=(sequence_length, raw_data.shape[-1]))\n",
    "x = layers.Bidirectional(layers.LSTM(16))(inputs)\n",
    "outputs = layers.Dense(1)(x)\n",
    "model = keras.Model(inputs, outputs)\n",
    "\n",
    "model.compile(optimizer=\"rmsprop\", loss=\"mse\", metrics=[\"mae\"])\n",
    "history = model.fit(train_dataset,\n",
    "                    epochs=10,\n",
    "                    validation_data=val_dataset)\n",
    "plot_Result(history)"
   ]
  },
  {
   "cell_type": "code",
   "execution_count": null,
   "id": "15febabc",
   "metadata": {},
   "outputs": [],
   "source": []
  }
 ],
 "metadata": {
  "kernelspec": {
   "display_name": "Python 3 (ipykernel)",
   "language": "python",
   "name": "python3"
  },
  "language_info": {
   "codemirror_mode": {
    "name": "ipython",
    "version": 3
   },
   "file_extension": ".py",
   "mimetype": "text/x-python",
   "name": "python",
   "nbconvert_exporter": "python",
   "pygments_lexer": "ipython3",
   "version": "3.9.7"
  }
 },
 "nbformat": 4,
 "nbformat_minor": 5
}
